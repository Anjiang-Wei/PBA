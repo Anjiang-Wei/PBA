{
 "cells": [
  {
   "cell_type": "code",
   "execution_count": 1,
   "metadata": {},
   "outputs": [],
   "source": [
    "# Import libraries\n",
    "import matplotlib.pyplot as plt\n",
    "import numpy as np\n",
    "import scipy\n",
    "import scipy.stats as stats\n",
    "import pandas as pd\n",
    "from matplotlib import scale as mscale\n",
    "from matplotlib import transforms as mtransforms\n",
    "from matplotlib.ticker import Formatter, FixedLocator\n",
    "from matplotlib.patches import Rectangle"
   ]
  },
  {
   "cell_type": "code",
   "execution_count": 2,
   "metadata": {},
   "outputs": [],
   "source": [
    "# Set up PPF scale for CDF plots\n",
    "class PPFScale(mscale.ScaleBase):\n",
    "    name = \"ppf\"\n",
    "\n",
    "    def __init__(self, axis, **kwargs):\n",
    "        mscale.ScaleBase.__init__(self, axis)\n",
    "\n",
    "    def get_transform(self):\n",
    "        return self.PPFTransform()\n",
    "\n",
    "    def set_default_locators_and_formatters(self, axis):\n",
    "        class VarFormatter(Formatter):\n",
    "            def __call__(self, x, pos=None):\n",
    "                return f\"{x}\"[1:]\n",
    "\n",
    "        axis.set_major_locator(FixedLocator(np.array([0,.0001,.001,.01,.1,.2,.3,.4,.5,.6,.7,.8,.9,.99,.999,.9999,1])))\n",
    "        axis.set_major_formatter(VarFormatter())\n",
    "\n",
    "\n",
    "    def limit_range_for_scale(self, vmin, vmax, minpos):\n",
    "        return max(vmin, 1e-6), min(vmax, 1-1e-6)\n",
    "\n",
    "    class PPFTransform(mtransforms.Transform):\n",
    "        input_dims = output_dims = 1\n",
    "\n",
    "        def ___init__(self, thresh):\n",
    "            mtransforms.Transform.__init__(self)\n",
    "\n",
    "        def transform_non_affine(self, a):\n",
    "            return stats.norm.ppf(a)\n",
    "\n",
    "        def inverted(self):\n",
    "            return PPFScale.IPPFTransform()\n",
    "\n",
    "    class IPPFTransform(mtransforms.Transform):\n",
    "        input_dims = output_dims = 1\n",
    "\n",
    "        def transform_non_affine(self, a):\n",
    "            return stats.norm.cdf(a)\n",
    "\n",
    "        def inverted(self):\n",
    "            return PPFScale.PPFTransform()\n",
    "\n",
    "# Register PPF scale\n",
    "mscale.register_scale(PPFScale)"
   ]
  },
  {
   "cell_type": "code",
   "execution_count": 3,
   "metadata": {},
   "outputs": [
    {
     "data": {
      "image/png": "[encoded data removed]",
      "text/plain": [
       "<Figure size 360x216 with 1 Axes>"
      ]
     },
     "metadata": {
      "needs_background": "light"
     },
     "output_type": "display_data"
    }
   ],
   "source": [
    "# Load log file\n",
    "names = [\"chip\", \"time\", \"addr\", \"operation\", \"mask\", \"wl_dac_lvl\", \"bsl_dac_lvl\", \"sa_do\"]\n",
    "formdata = pd.read_csv(\"../data/form.5mhz.188cell.csv\", names=names, index_col=False)\n",
    "formdata.sa_do = formdata.sa_do.shift(-1, fill_value=0)\n",
    "formdata[\"nform\"] = formdata.sa_do.apply(lambda di: bin(di).count(\"1\"))\n",
    "formdata = formdata[formdata.operation == \"SET\"]\n",
    "\n",
    "# Figure\n",
    "plt.figure(figsize=(5,3))\n",
    "formdata[formdata.operation == \"SET\"].groupby(\"wl_dac_lvl\").sum()[\"nform\"].plot.bar(width=1)\n",
    "plt.title(\"FORM-Inducing WL DAC Statistics (188x48 cells)\")\n",
    "plt.xlabel(\"WL DAC Level\")\n",
    "plt.ylabel(\"Frequency\")\n",
    "plt.text(100, 120, \"bl_dac_lvl=31\\nclk=5MHz\\npw=3us\\nread_dac_lvl=7\\nclamp_ref_lvl=1\\nform_thresh=32\")\n",
    "plt.locator_params(nbins=10)\n",
    "plt.savefig(\"figs/form.wl.stats.pdf\")"
   ]
  },
  {
   "cell_type": "code",
   "execution_count": null,
   "metadata": {},
   "outputs": [],
   "source": []
  }
 ],
 "metadata": {
  "kernelspec": {
   "display_name": "base",
   "language": "python",
   "name": "python3"
  },
  "language_info": {
   "codemirror_mode": {
    "name": "ipython",
    "version": 3
   },
   "file_extension": ".py",
   "mimetype": "text/x-python",
   "name": "python",
   "nbconvert_exporter": "python",
   "pygments_lexer": "ipython3",
   "version": "3.8.3"
  },
  "orig_nbformat": 4,
  "vscode": {
   "interpreter": {
    "hash": "c30f2af5f468e7f5b45bcc30fca5f4886c90d54777aed916ed5f6294dfb24bf2"
   }
  }
 },
 "nbformat": 4,
 "nbformat_minor": 2
}
