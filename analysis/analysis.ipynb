{
 "cells": [
  {
   "cell_type": "code",
   "execution_count": null,
   "metadata": {},
   "outputs": [],
   "source": [
    "# Get retention data\n",
    "names = [\"addr\", \"time\", \"lvl\"]\n",
    "data = pd.read_csv(\"../data/retention.csv.gz\", delimiter='\\t', names=names)\n",
    "data[\"lvl\"] = data[\"lvl\"].str.strip('[]').str.split(', ')\n",
    "data = data.explode(\"lvl\", ignore_index=True)\n",
    "data[\"lvl\"] = pd.to_numeric(data[\"lvl\"])\n",
    "data[\"time\"] -= data.groupby(\"addr\")[\"time\"].transform(\"first\") \n",
    "data[\"lvli\"] = data.groupby(\"addr\")[\"lvl\"].transform(\"first\")\n",
    "data[\"i\"] = data.index % 16\n",
    "data[\"tmin\"] = data[\"addr\"] % 60\n",
    "data[\"tmax\"] = data[\"addr\"] % 60 + 4\n",
    "data"
   ]
  },
  {
   "cell_type": "code",
   "execution_count": null,
   "metadata": {},
   "outputs": [],
   "source": [
    "# Get target times\n",
    "tdata = []\n",
    "times = [0, 0.1, 1, 10, 100, 1000, 10000, 100000]\n",
    "for time in times:\n",
    "    idx = (data[\"time\"] - time).abs().groupby([data[\"addr\"], data[\"i\"]]).idxmin()\n",
    "    d = data[data.index.isin(idx)]\n",
    "    d = d[(d[\"time\"] <= time*1.2) & (d[\"time\"] >= time*0.8)]\n",
    "    print(time, len(d))\n",
    "    d[\"timept\"] = time\n",
    "    tdata.append(d)\n",
    "tdata = pd.concat(tdata)\n",
    "tdata.to_csv(\"data/retention.min.csv.gz\")\n",
    "tdata"
   ]
  }
 ],
 "metadata": {
  "language_info": {
   "name": "python"
  },
  "orig_nbformat": 4
 },
 "nbformat": 4,
 "nbformat_minor": 2
}
